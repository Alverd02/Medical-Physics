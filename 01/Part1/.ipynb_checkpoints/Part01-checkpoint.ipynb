{
 "cells": [
  {
   "cell_type": "markdown",
   "id": "121f28e3-09ce-46d8-9996-da2124d38c17",
   "metadata": {},
   "source": [
    "## 1.Visualització, histograma i contrast"
   ]
  },
  {
   "cell_type": "code",
   "execution_count": 5,
   "id": "f958a675-ef04-4a0d-9d59-eac18f169823",
   "metadata": {},
   "outputs": [
    {
     "name": "stdout",
     "output_type": "stream",
     "text": [
      "(499, 748, 3)\n"
     ]
    }
   ],
   "source": [
    "import cv2\n",
    "img = cv2.imread(\"BerkeleyTower.png\") # Llegim la imatge\n",
    "\n",
    "tamany = img.shape  #Tamany de la imatge\n",
    "print(tamany)\n",
    "\n",
    "cv2.imshow(\"Berkeley\",img)\n",
    "cv2.waitKey(0)             #Mostrem la imatge\n",
    "cv2.destroyAllWindows()"
   ]
  },
  {
   "cell_type": "code",
   "execution_count": 1,
   "id": "055db9d1-4dfb-40e2-bcad-8fa7e08f46b8",
   "metadata": {},
   "outputs": [
    {
     "name": "stdout",
     "output_type": "stream",
     "text": [
      "Requirement already satisfied: opencv-python in c:\\users\\usuario\\anaconda3\\lib\\site-packages (4.11.0.86)\n",
      "Requirement already satisfied: numpy>=1.21.2 in c:\\users\\usuario\\anaconda3\\lib\\site-packages (from opencv-python) (1.26.4)\n",
      "Note: you may need to restart the kernel to use updated packages.\n"
     ]
    }
   ],
   "source": []
  },
  {
   "cell_type": "code",
   "execution_count": null,
   "id": "ba6ae4c1-e214-49c2-a703-6f9501b25e89",
   "metadata": {},
   "outputs": [],
   "source": []
  }
 ],
 "metadata": {
  "kernelspec": {
   "display_name": "Python [conda env:base] *",
   "language": "python",
   "name": "conda-base-py"
  },
  "language_info": {
   "codemirror_mode": {
    "name": "ipython",
    "version": 3
   },
   "file_extension": ".py",
   "mimetype": "text/x-python",
   "name": "python",
   "nbconvert_exporter": "python",
   "pygments_lexer": "ipython3",
   "version": "3.12.7"
  }
 },
 "nbformat": 4,
 "nbformat_minor": 5
}
